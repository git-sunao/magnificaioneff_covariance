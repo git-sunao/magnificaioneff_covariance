{
 "cells": [
  {
   "cell_type": "code",
   "execution_count": 1,
   "metadata": {},
   "outputs": [
    {
     "name": "stdout",
     "output_type": "stream",
     "text": [
      "Populating the interactive namespace from numpy and matplotlib\n"
     ]
    }
   ],
   "source": [
    "%load_ext autoreload\n",
    "%autoreload 2\n",
    "%pylab inline"
   ]
  },
  {
   "cell_type": "code",
   "execution_count": 17,
   "metadata": {},
   "outputs": [],
   "source": [
    "import numpy as np\n",
    "import magnificationbias_covariance\n",
    "import gglens_x_ggclustering_likelihood as utils\n",
    "import os, json, copy\n",
    "import matplotlib.pyplot as plt\n",
    "from my_python_package.utility import silencer\n",
    "plt.rcParams['font.family'] = 'serif'# 'sans-serif'\n",
    "plt.rcParams['font.serif'] = \"STIXGeneral\"\n",
    "plt.rcParams['font.size'] = 25\n",
    "plt.rcParams['axes.linewidth'] = 1.5\n",
    "plt.rcParams['xtick.major.size'] = 5\n",
    "plt.rcParams['ytick.major.size'] = 5\n",
    "plt.rcParams['xtick.minor.size'] = 3\n",
    "plt.rcParams['ytick.minor.size'] = 3\n",
    "plt.rcParams['xtick.top'] = True\n",
    "plt.rcParams['ytick.right'] = True\n",
    "plt.rcParams['xtick.minor.visible'] = True\n",
    "plt.rcParams['ytick.minor.visible'] = True\n",
    "plt.rcParams['xtick.direction'] = 'in'\n",
    "plt.rcParams['ytick.direction'] = 'in'\n",
    "plt.rcParams['figure.figsize'] = (10,6)\n",
    "\n",
    "plt.rc(\"text\",usetex=True)\n",
    "plt.rc(\"font\",family=\"serif\")\n",
    "plt.rc(\"font\",serif=\"STIXGeneral\")"
   ]
  },
  {
   "cell_type": "code",
   "execution_count": null,
   "metadata": {},
   "outputs": [],
   "source": []
  },
  {
   "cell_type": "code",
   "execution_count": 7,
   "metadata": {},
   "outputs": [
    {
     "name": "stdout",
     "output_type": "stream",
     "text": [
      "initialize cosmo_class\n",
      "Initialize pklin emulator\n",
      "set up cosmology :  [[ 0.02225  0.1198   0.6844   3.094    0.9645  -1.     ]]\n",
      "set up cosmology :  [[ 0.02254  0.11417  0.721    3.094    0.97    -1.     ]]\n",
      "0.020932578062250386\n",
      "set up cosmology :  [[ 0.02254     0.11417     0.721       3.11493258  0.97       -1.        ]]\n"
     ]
    }
   ],
   "source": [
    "mc = magnificationbias_covariance.magnificationbias_covariance()\n",
    "config = utils.config('config_mock_fiducial.json', use_interp_meas_corr=False)\n",
    "info = {}\n",
    "info['zl_list'] = config.parameters['observables']['lensing']['redshift']\n",
    "info['zs'] = 1.234\n",
    "info['galaxy_list'] = [1.78, 2.12, 2.28]\n",
    "\n",
    "Omega_s = (136.9*deg2rad(1.0)**2)\n",
    "info['Omega_s'] = Omega_s\n",
    "info['alpha_list'] = [2.259,3.563,3.729]\n",
    "info['shape_noise'] = 0.2207**2\n",
    "n_s = 7.9549 # arcmin^-2\n",
    "info['n_s'] = n_s / deg2rad(1.0/60.0)**2\n",
    "\n",
    "x,y,cov = config.load_data()\n",
    "n = config.probes.n_redshift['lensing']\n",
    "cov_lens = cov.get_covariance('lensing')\n",
    "R = x.get_radial_bin('lensing', 0)\n",
    "dlogR = np.diff(np.log10(R))[0]"
   ]
  },
  {
   "cell_type": "code",
   "execution_count": 9,
   "metadata": {},
   "outputs": [],
   "source": [
    "#test setups\n",
    "Rcombinations = [[80.0, 80.0], [40.0, 40.0], [10.0, 10.0], [6.0, 6.0], [3.0,3.0],\n",
    "                 [80.0, 40.0], [80.0, 10.0], [80.0, 6.0], [80.0, 3.0], \n",
    "                 [40.0, 10.0], [40.0, 6.0], [40.0, 3.0], \n",
    "                 [10.0, 6.0] , [10.0, 3.0]]\n",
    "zcombinations = [[0,0], [1,1], [2,2],\n",
    "                 [0,1], [0,2],\n",
    "                 [1,2]]"
   ]
  },
  {
   "cell_type": "code",
   "execution_count": 84,
   "metadata": {},
   "outputs": [],
   "source": [
    "# hyper parameter\n",
    "# l : min, max, N\n",
    "# k : min, max, N\n",
    "# dump : dump_peak_ratio\n",
    "\n",
    "def check(hyper_param_dict):\n",
    "    if 'l' in hyper_param_dict.keys():\n",
    "        mc.l = hyper_param_dict['l']\n",
    "    if 'k' in hyper_param_dict.keys():\n",
    "        mc.k = hyper_param_dict['k']\n",
    "    dump_peak_ratio = hyper_param_dict.get('dump_peak_ratio', 1e2)\n",
    "    s = silencer()\n",
    "    s.start()\n",
    "    mc.prepare_dcov(info)\n",
    "    s.end()\n",
    "    \n",
    "    dR = np.array([10**(-dlogR/2.0),10**(dlogR/2.0)])\n",
    "    dcov = []\n",
    "    cond = []\n",
    "    for i, j in zcombinations:\n",
    "        for r1, r2 in Rcombinations:\n",
    "            R1, R2 = r1*dR, r2*dR\n",
    "            dc = mc.get_dcov(i, j, R1, R2, show_integrand=False, dump_peak_ratio=dump_peak_ratio)\n",
    "            cond.append([i,j,r1,r2])\n",
    "            dcov.append(dc)\n",
    "    return np.array(dcov), cond"
   ]
  },
  {
   "cell_type": "markdown",
   "metadata": {},
   "source": [
    "### N of l dependency"
   ]
  },
  {
   "cell_type": "code",
   "execution_count": 19,
   "metadata": {},
   "outputs": [],
   "source": [
    "h = {'l':np.logspace(-1, 4, 1000)}\n",
    "dcov, cond = check(h)"
   ]
  },
  {
   "cell_type": "code",
   "execution_count": 21,
   "metadata": {},
   "outputs": [],
   "source": [
    "h = {'l':np.logspace(-1, 4, 10000)}\n",
    "dcov2, cond = check(h)"
   ]
  },
  {
   "cell_type": "code",
   "execution_count": 26,
   "metadata": {},
   "outputs": [],
   "source": [
    "h = {'l':np.logspace(-1, 4, 100000)}\n",
    "dcov3, cond = check(h)"
   ]
  },
  {
   "cell_type": "code",
   "execution_count": 28,
   "metadata": {},
   "outputs": [
    {
     "name": "stdout",
     "output_type": "stream",
     "text": [
      "max of (l=1e3)/(l=1e5) 0.00037730843223893196\n",
      "max of (l=1e4)/(l=1e5) 1.2552873661642039e-06\n"
     ]
    }
   ],
   "source": [
    "print('max of (l=1e3)/(l=1e5)', np.max(abs(1.0 - dcov/dcov3)))\n",
    "print('max of (l=1e4)/(l=1e5)', np.max(abs(1.0 - dcov2/dcov3)))"
   ]
  },
  {
   "cell_type": "markdown",
   "metadata": {},
   "source": [
    "### min of l dependency"
   ]
  },
  {
   "cell_type": "code",
   "execution_count": 33,
   "metadata": {},
   "outputs": [],
   "source": [
    "h = {'l':np.logspace(-2, 4, 5000)}\n",
    "dcov, cond = check(h)"
   ]
  },
  {
   "cell_type": "code",
   "execution_count": 34,
   "metadata": {},
   "outputs": [],
   "source": [
    "h = {'l':np.logspace(-1.5, 4, 5000)}\n",
    "dcov2, cond = check(h)"
   ]
  },
  {
   "cell_type": "code",
   "execution_count": 35,
   "metadata": {},
   "outputs": [],
   "source": [
    "h = {'l':np.logspace(-1, 4, 5000)}\n",
    "dcov3, cond = check(h)"
   ]
  },
  {
   "cell_type": "code",
   "execution_count": 36,
   "metadata": {},
   "outputs": [
    {
     "name": "stdout",
     "output_type": "stream",
     "text": [
      "max of (lmin=-2)  /(lmin=-1) 0.000490431610822184\n",
      "max of (lmin=-1.5)/(lmin=-1) 0.00044242509686998055\n"
     ]
    }
   ],
   "source": [
    "print('max of (lmin=-2)  /(lmin=-1)', np.max(abs(1.0 - dcov/dcov3)))\n",
    "print('max of (lmin=-1.5)/(lmin=-1)', np.max(abs(1.0 - dcov2/dcov3)))"
   ]
  },
  {
   "cell_type": "markdown",
   "metadata": {},
   "source": [
    "### max of l dependency"
   ]
  },
  {
   "cell_type": "code",
   "execution_count": 37,
   "metadata": {},
   "outputs": [],
   "source": [
    "h = {'l':np.logspace(-1, 5, 5000)}\n",
    "dcov, cond = check(h)"
   ]
  },
  {
   "cell_type": "code",
   "execution_count": 38,
   "metadata": {},
   "outputs": [],
   "source": [
    "h = {'l':np.logspace(-1, 4.5, 5000)}\n",
    "dcov, cond = check(h)"
   ]
  },
  {
   "cell_type": "code",
   "execution_count": 39,
   "metadata": {},
   "outputs": [],
   "source": [
    "h = {'l':np.logspace(-1, 4, 5000)}\n",
    "dcov3, cond = check(h)"
   ]
  },
  {
   "cell_type": "code",
   "execution_count": 40,
   "metadata": {},
   "outputs": [
    {
     "name": "stdout",
     "output_type": "stream",
     "text": [
      "max of (lmax=5)  /(lmax=4) 0.0006319720787808514\n",
      "max of (lmax=4.5)/(lmax=4) 0.00044242509686998055\n"
     ]
    }
   ],
   "source": [
    "print('max of (lmax=5)  /(lmax=4)', np.max(abs(1.0 - dcov/dcov3)))\n",
    "print('max of (lmax=4.5)/(lmax=4)', np.max(abs(1.0 - dcov2/dcov3)))"
   ]
  },
  {
   "cell_type": "markdown",
   "metadata": {},
   "source": [
    "### N of k dependency"
   ]
  },
  {
   "cell_type": "code",
   "execution_count": 50,
   "metadata": {},
   "outputs": [],
   "source": [
    "h = {'k':np.logspace(-5, 2, 200)}\n",
    "dcov, cond = check(h)"
   ]
  },
  {
   "cell_type": "code",
   "execution_count": 51,
   "metadata": {},
   "outputs": [],
   "source": [
    "h = {'k':np.logspace(-5, 2, 400)}\n",
    "dcov2, cond = check(h)"
   ]
  },
  {
   "cell_type": "code",
   "execution_count": 54,
   "metadata": {},
   "outputs": [],
   "source": [
    "h = {'k':np.logspace(-5, 2, 800)}\n",
    "dcov3, cond = check(h)"
   ]
  },
  {
   "cell_type": "code",
   "execution_count": 55,
   "metadata": {},
   "outputs": [],
   "source": [
    "h = {'k':np.logspace(-5, 2, 2000)}\n",
    "dcov4, cond = check(h)"
   ]
  },
  {
   "cell_type": "code",
   "execution_count": 57,
   "metadata": {},
   "outputs": [
    {
     "name": "stdout",
     "output_type": "stream",
     "text": [
      "max of (N=200)/(N=2000) 0.02119630453339072\n",
      "max of (N=400)/(N=2000) 0.005079140877372157\n",
      "max of (N=800)/(N=2000) 0.0011063523291193755\n"
     ]
    }
   ],
   "source": [
    "print('max of (N=200)/(N=2000)', np.max(abs(1.0 - dcov/dcov4)))\n",
    "print('max of (N=400)/(N=2000)', np.max(abs(1.0 - dcov2/dcov4)))\n",
    "print('max of (N=800)/(N=2000)', np.max(abs(1.0 - dcov3/dcov4)))"
   ]
  },
  {
   "cell_type": "markdown",
   "metadata": {},
   "source": [
    "### min of k dependency"
   ]
  },
  {
   "cell_type": "code",
   "execution_count": 58,
   "metadata": {},
   "outputs": [],
   "source": [
    "h = {'k':np.logspace(-3, 2, 800)}\n",
    "dcov, cond = check(h)"
   ]
  },
  {
   "cell_type": "code",
   "execution_count": 59,
   "metadata": {},
   "outputs": [],
   "source": [
    "h = {'k':np.logspace(-4, 2, 800)}\n",
    "dcov2, cond = check(h)"
   ]
  },
  {
   "cell_type": "code",
   "execution_count": 60,
   "metadata": {},
   "outputs": [],
   "source": [
    "h = {'k':np.logspace(-5, 2, 800)}\n",
    "dcov3, cond = check(h)"
   ]
  },
  {
   "cell_type": "code",
   "execution_count": 61,
   "metadata": {},
   "outputs": [
    {
     "name": "stdout",
     "output_type": "stream",
     "text": [
      "max of (kmin=-3)/(kmin=-5) 0.000644423069950939\n",
      "max of (kmin=-4)/(kmin=-5) 0.00035803368936782043\n"
     ]
    }
   ],
   "source": [
    "print('max of (kmin=-3)/(kmin=-5)', np.max(abs(1.0 - dcov/dcov3)))\n",
    "print('max of (kmin=-4)/(kmin=-5)', np.max(abs(1.0 - dcov2/dcov3)))"
   ]
  },
  {
   "cell_type": "markdown",
   "metadata": {},
   "source": [
    "### max of k dependency"
   ]
  },
  {
   "cell_type": "code",
   "execution_count": 66,
   "metadata": {},
   "outputs": [],
   "source": [
    "h = {'k':np.logspace(-5, 1, 800)}\n",
    "dcov, cond = check(h)"
   ]
  },
  {
   "cell_type": "code",
   "execution_count": 67,
   "metadata": {},
   "outputs": [],
   "source": [
    "h = {'k':np.logspace(-5, 3, 800)}\n",
    "dcov2, cond = check(h)"
   ]
  },
  {
   "cell_type": "code",
   "execution_count": 68,
   "metadata": {},
   "outputs": [],
   "source": [
    "h = {'k':np.logspace(-5, 2, 800)}\n",
    "dcov3, cond = check(h)"
   ]
  },
  {
   "cell_type": "code",
   "execution_count": 69,
   "metadata": {},
   "outputs": [
    {
     "name": "stdout",
     "output_type": "stream",
     "text": [
      "max of (kmax=1)/(kmax=2) 0.0005214634175170207\n",
      "max of (kmax=3)/(kmax=2) 0.000398801550788197\n"
     ]
    }
   ],
   "source": [
    "print('max of (kmax=1)/(kmax=2)', np.max(abs(1.0 - dcov/dcov3)))\n",
    "print('max of (kmax=3)/(kmax=2)', np.max(abs(1.0 - dcov2/dcov3)))"
   ]
  },
  {
   "cell_type": "markdown",
   "metadata": {},
   "source": [
    "### dump dependency"
   ]
  },
  {
   "cell_type": "code",
   "execution_count": 85,
   "metadata": {},
   "outputs": [],
   "source": [
    "h = {'dump_peak_ratio':10**2.5}\n",
    "dcov, cond = check(h)"
   ]
  },
  {
   "cell_type": "code",
   "execution_count": 86,
   "metadata": {},
   "outputs": [],
   "source": [
    "h = {'dump_peak_ratio':10**3}\n",
    "dcov2, cond = check(h)"
   ]
  },
  {
   "cell_type": "code",
   "execution_count": 87,
   "metadata": {},
   "outputs": [],
   "source": [
    "h = {'dump_peak_ratio':10**4}\n",
    "dcov3, cond = check(h)"
   ]
  },
  {
   "cell_type": "code",
   "execution_count": 90,
   "metadata": {},
   "outputs": [],
   "source": [
    "h = {'dump_peak_ratio':1e2}\n",
    "dcov4, cond = check(h)"
   ]
  },
  {
   "cell_type": "code",
   "execution_count": 91,
   "metadata": {},
   "outputs": [
    {
     "name": "stdout",
     "output_type": "stream",
     "text": [
      "max of (d=1e2.5)/(d=1e2) 0.0014671478991530318\n",
      "max of (d=1e3)  /(d=1e2) 0.001615317041046671\n",
      "max of (d=1e4)  /(d=1e2) 0.0016316448394468885\n"
     ]
    }
   ],
   "source": [
    "print('max of (d=1e2.5)/(d=1e2)', np.max(abs(1.0 - dcov/dcov4)))\n",
    "print('max of (d=1e3)  /(d=1e2)', np.max(abs(1.0 - dcov2/dcov4)))\n",
    "print('max of (d=1e4)  /(d=1e2)', np.max(abs(1.0 - dcov3/dcov4)))"
   ]
  },
  {
   "cell_type": "markdown",
   "metadata": {},
   "source": [
    "## conclusion\n",
    "The choice of hyper parameters\n",
    "- k = np.array(-5, 2, 400)\n",
    "- l = np.array(-1, 4, 1000)\n",
    "- dump_peak_ratio = 1e2\n",
    "\n",
    "is good to get precise covariance matrix at sub percent level."
   ]
  },
  {
   "cell_type": "code",
   "execution_count": null,
   "metadata": {},
   "outputs": [],
   "source": []
  },
  {
   "cell_type": "code",
   "execution_count": null,
   "metadata": {},
   "outputs": [],
   "source": []
  },
  {
   "cell_type": "code",
   "execution_count": 1,
   "metadata": {},
   "outputs": [],
   "source": [
    "import os"
   ]
  },
  {
   "cell_type": "code",
   "execution_count": 3,
   "metadata": {},
   "outputs": [
    {
     "data": {
      "text/plain": [
       "''"
      ]
     },
     "execution_count": 3,
     "metadata": {},
     "output_type": "execute_result"
    }
   ],
   "source": [
    "os.path.dirname('aaa')"
   ]
  },
  {
   "cell_type": "code",
   "execution_count": null,
   "metadata": {},
   "outputs": [],
   "source": []
  }
 ],
 "metadata": {
  "kernelspec": {
   "display_name": "Python 3",
   "language": "python",
   "name": "python3"
  },
  "language_info": {
   "codemirror_mode": {
    "name": "ipython",
    "version": 3
   },
   "file_extension": ".py",
   "mimetype": "text/x-python",
   "name": "python",
   "nbconvert_exporter": "python",
   "pygments_lexer": "ipython3",
   "version": "3.7.6"
  }
 },
 "nbformat": 4,
 "nbformat_minor": 4
}
