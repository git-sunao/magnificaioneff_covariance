{
 "cells": [
  {
   "cell_type": "code",
   "execution_count": 1,
   "metadata": {},
   "outputs": [
    {
     "name": "stdout",
     "output_type": "stream",
     "text": [
      "Populating the interactive namespace from numpy and matplotlib\n"
     ]
    }
   ],
   "source": [
    "%load_ext autoreload\n",
    "%autoreload 2\n",
    "%pylab inline"
   ]
  },
  {
   "cell_type": "code",
   "execution_count": 2,
   "metadata": {},
   "outputs": [],
   "source": [
    "import model_pt\n",
    "from dark_emulator import model_hod\n",
    "from scipy.integrate import simps\n",
    "from scipy.interpolate import InterpolatedUnivariateSpline as ius\n",
    "from scipy.interpolate import interp2d, interp1d\n",
    "from scipy.special import jn\n",
    "import numpy as np\n",
    "import copy\n",
    "\"\"\"\n",
    "fiducial setup of matplotlib.\n",
    "\"\"\"\n",
    "import matplotlib.pyplot as plt\n",
    "plt.rcParams['font.family'] = 'serif'# 'sans-serif'\n",
    "plt.rcParams['font.serif'] = \"STIXGeneral\"\n",
    "plt.rcParams['font.size'] = 25\n",
    "plt.rcParams['axes.linewidth'] = 1.5\n",
    "plt.rcParams['xtick.major.size'] = 5\n",
    "plt.rcParams['ytick.major.size'] = 5\n",
    "plt.rcParams['xtick.minor.size'] = 3\n",
    "plt.rcParams['ytick.minor.size'] = 3\n",
    "plt.rcParams['xtick.top'] = True\n",
    "plt.rcParams['ytick.right'] = True\n",
    "plt.rcParams['xtick.minor.visible'] = True\n",
    "plt.rcParams['ytick.minor.visible'] = True\n",
    "plt.rcParams['xtick.direction'] = 'in'\n",
    "plt.rcParams['ytick.direction'] = 'in'\n",
    "plt.rcParams['figure.figsize'] = (10,6)\n",
    "\n",
    "plt.rc(\"text\",usetex=True)\n",
    "plt.rc(\"font\",family=\"serif\")\n",
    "plt.rc(\"font\",serif=\"STIXGeneral\")"
   ]
  },
  {
   "cell_type": "code",
   "execution_count": 3,
   "metadata": {},
   "outputs": [],
   "source": [
    "import logging \n",
    "mpl_logger = logging.getLogger('matplotlib') \n",
    "mpl_logger.setLevel(logging.WARNING)"
   ]
  },
  {
   "cell_type": "code",
   "execution_count": 4,
   "metadata": {},
   "outputs": [],
   "source": [
    "import magnificationbias_covariance"
   ]
  },
  {
   "cell_type": "markdown",
   "metadata": {},
   "source": [
    "## init & test"
   ]
  },
  {
   "cell_type": "code",
   "execution_count": 5,
   "metadata": {},
   "outputs": [
    {
     "name": "stdout",
     "output_type": "stream",
     "text": [
      "initialize cosmo_class\n",
      "Initialize pklin emulator\n",
      "set up cosmology :  [[ 0.02225  0.1198   0.6844   3.094    0.9645  -1.     ]]\n",
      "set up cosmology :  [[ 0.02254  0.11417  0.721    3.094    0.97    -1.     ]]\n",
      "0.020932578062250386\n",
      "set up cosmology :  [[ 0.02254     0.11417     0.721       3.11493258  0.97       -1.        ]]\n"
     ]
    }
   ],
   "source": [
    "mc = magnificationbias_covariance.magnificationbias_covariance()"
   ]
  },
  {
   "cell_type": "code",
   "execution_count": 6,
   "metadata": {},
   "outputs": [
    {
     "name": "stdout",
     "output_type": "stream",
     "text": [
      "set up bias\n",
      "{'b1': 1.78}\n",
      "set up bias\n",
      "{'b1': 2.12}\n",
      "set up bias\n",
      "{'b1': 2.28}\n",
      "set up bias\n",
      "{'b1': 1.78}\n",
      "Got same bias parameters. Keep quantities already computed.\n",
      "set up bias\n",
      "{'b1': 2.12}\n",
      "CPU times: user 3.71 s, sys: 12.1 ms, total: 3.72 s\n",
      "Wall time: 3.72 s\n"
     ]
    }
   ],
   "source": [
    "%%time\n",
    "samples = ['LOWZ', 'CMASS1', 'CMASS2']\n",
    "info = {}\n",
    "info['zl_list'] = [0.2607,0.5106,0.6264]\n",
    "info['zs'] = 1.234\n",
    "info['galaxy_list'] = [1.78, 2.12, 2.28]\n",
    "\n",
    "fsky = 0.5\n",
    "Omega_s = (130.0*deg2rad(1.0)**2)\n",
    "info['Omega_s'] = Omega_s\n",
    "info['alpha_list'] = [2.259,3.563,3.729]\n",
    "info['shape_noise'] = 0.2**2\n",
    "n_s = 8.74 # arcmin^-2\n",
    "info['n_s'] = n_s / deg2rad(1.0/60.0)**2\n",
    "\n",
    "mc.prepare_dcov(info)"
   ]
  },
  {
   "cell_type": "code",
   "execution_count": 7,
   "metadata": {},
   "outputs": [
    {
     "name": "stdout",
     "output_type": "stream",
     "text": [
      "CPU times: user 56.1 ms, sys: 1.02 ms, total: 57.1 ms\n",
      "Wall time: 56.6 ms\n"
     ]
    },
    {
     "data": {
      "text/plain": [
       "7.157527976695746e-05"
      ]
     },
     "execution_count": 7,
     "metadata": {},
     "output_type": "execute_result"
    }
   ],
   "source": [
    "%%time\n",
    "R1 = [7.9, 8.1]\n",
    "R2 = [7.9, 8.2]\n",
    "mc.get_dcov(0, 0, R1, R2, show_integrand=False, dump_peak_ratio=1e2)"
   ]
  },
  {
   "cell_type": "markdown",
   "metadata": {},
   "source": [
    "## evaluate"
   ]
  },
  {
   "cell_type": "code",
   "execution_count": 8,
   "metadata": {},
   "outputs": [],
   "source": [
    "import gglens_x_ggclustering_likelihood as utils"
   ]
  },
  {
   "cell_type": "code",
   "execution_count": 9,
   "metadata": {},
   "outputs": [],
   "source": [
    "config = utils.config('config_mock_fiducial.json', load_meascorr=False)\n",
    "x,y,cov = config.load_data()\n",
    "n = config.probes.n_redshift['lensing']\n",
    "cov_lens = cov.get_covariance('lensing')\n",
    "R = x.get_radial_bin('lensing', 0)\n",
    "dlogR = np.diff(np.log10(R))[0]\n",
    "nr = len(R)"
   ]
  },
  {
   "cell_type": "code",
   "execution_count": null,
   "metadata": {},
   "outputs": [],
   "source": [
    "%%time\n",
    "# takes ~ 3 min \n",
    "dR = np.array([10**(-dlogR/2.0),10**(dlogR/2.0)])\n",
    "dcov = copy.deepcopy(cov_lens)\n",
    "\n",
    "for i in range(n):\n",
    "    for j in range(n):\n",
    "        for ir in range(nr):\n",
    "            for jr in range(nr):\n",
    "                cov_i = nr*i + ir\n",
    "                cov_j = nr*j + jr\n",
    "                R1 = dR*x.get_radial_bin('lensing',i)[ir]\n",
    "                R2 = dR*x.get_radial_bin('lensing',j)[jr]\n",
    "                dc = mc.get_dcov(i, j, R1, R2, show_integrand=False, dump_peak_ratio=1e2)\n",
    "                dcov[cov_i,cov_j] = dc"
   ]
  },
  {
   "cell_type": "code",
   "execution_count": null,
   "metadata": {},
   "outputs": [],
   "source": [
    "# get matrix index where magnification effect covariance is larger than original cov by factor 10\n",
    "index_large = np.where(abs(dcov/cov_lens) > 10)\n",
    "print(len(index_large[0]))\n",
    "print(index_large)"
   ]
  },
  {
   "cell_type": "code",
   "execution_count": null,
   "metadata": {},
   "outputs": [],
   "source": [
    "# show which element of covariance is larger than original covariance\n",
    "for k in range(len(index_large[0])):\n",
    "    cov_i = index_large[0][k]\n",
    "    cov_j = index_large[1][k]\n",
    "    i = cov_i//nr\n",
    "    j = cov_j//nr\n",
    "    ir = cov_i%nr\n",
    "    jr = cov_j%nr\n",
    "    R1 = dR*x.get_radial_bin('lensing',i)[ir]\n",
    "    R2 = dR*x.get_radial_bin('lensing',j)[jr]\n",
    "    #mc.get_dcov(i, j, R1, R2, show_integrand=True, dump_peak_ratio=1e2)\n",
    "\n",
    "    c = cov_lens[cov_i][cov_j]\n",
    "    dc= dcov[cov_i][cov_j]\n",
    "    print('----------')\n",
    "    print('R1, z1 = ',x.get_radial_bin('lensing',i)[ir], samples[i],',R1 range = ',R1)\n",
    "    print('R2, z2 = ',x.get_radial_bin('lensing',j)[jr], samples[j],',R2 range = ',R2)\n",
    "    print('cov      = ', c)\n",
    "    print('dcov     = ', dc)\n",
    "    print('dcov/cov = ', dc/c)"
   ]
  },
  {
   "cell_type": "code",
   "execution_count": null,
   "metadata": {},
   "outputs": [],
   "source": [
    "# useful \n",
    "def investigate(k, show_integrand=True, show_order=True, print_info=True, show_summand_order=True):\n",
    "    cov_i = index_large[0][k]\n",
    "    cov_j = index_large[1][k]\n",
    "    i = cov_i//nr\n",
    "    j = cov_j//nr\n",
    "    ir = cov_i%nr\n",
    "    jr = cov_j%nr\n",
    "    R1 = dR*x.get_radial_bin('lensing',i)[ir]\n",
    "    R2 = dR*x.get_radial_bin('lensing',j)[jr]\n",
    "    mc.get_dcov(i, j, R1, R2, show_integrand=show_integrand, dump_peak_ratio=1e2, \n",
    "                show_order=show_order, show_summand_order=show_summand_order)\n",
    "\n",
    "    c = cov_lens[cov_i][cov_j]\n",
    "    dc= dcov[cov_i][cov_j]\n",
    "    if print_info:\n",
    "        print('R1, z1 = ',x.get_radial_bin('lensing',i)[ir], samples[i],',R1 range = ',R1)\n",
    "        print('R2, z2 = ',x.get_radial_bin('lensing',j)[jr], samples[j],',R2 range = ',R2)\n",
    "        print('cov      = ', c)\n",
    "        print('dcov     = ', dc)\n",
    "        print('dcov/cov = ', dc/c)"
   ]
  },
  {
   "cell_type": "code",
   "execution_count": null,
   "metadata": {},
   "outputs": [],
   "source": [
    "# show which C(l) is largest in computation of the large covariance element.\n",
    "for k in range(len(index_large[0])):\n",
    "    investigate(k, show_integrand=False, show_order=True, print_info=False, show_summand_order=False)"
   ]
  },
  {
   "cell_type": "code",
   "execution_count": null,
   "metadata": {},
   "outputs": [],
   "source": [
    "# show which C(l)*C(l) is largest in computation of the large covariance element.\n",
    "for k in range(len(index_large[0])):\n",
    "    investigate(k, show_integrand=False, show_order=False, print_info=False, show_summand_order=True)"
   ]
  },
  {
   "cell_type": "code",
   "execution_count": null,
   "metadata": {},
   "outputs": [],
   "source": [
    "# show various infomation for the large covariance matrix\n",
    "# I can see which l has large contribution\n",
    "# - black: integrand. integration of black line gives covariance element\n",
    "# - blue : sum of C(l)*C(l)\n",
    "# - orange : J_2(lR/x) * J2(lR/x')\n",
    "# - green : artificial dumping function to supress highly oscilating C(l) at l> l_dump = (factor)*R/x\n",
    "#           The factor in l_dump is 100 by default, meaning dumping scale is larger than peak position by factor 100\n",
    "#           The factor in l_dump can be changed with optional argument `dump_peak_ratio` in `get_cov` method\n",
    "investigate(1)"
   ]
  },
  {
   "cell_type": "code",
   "execution_count": null,
   "metadata": {},
   "outputs": [],
   "source": []
  },
  {
   "cell_type": "code",
   "execution_count": null,
   "metadata": {},
   "outputs": [],
   "source": [
    "fig, ax = plt.subplots(figsize=(10,10))\n",
    "im = ax.imshow(np.log10(abs(dcov/cov_lens)), cmap='Blues')\n",
    "cbar = fig.colorbar(im)\n",
    "cbar.ax.set_ylabel(r'$\\log_{10}(\\delta{\\rm Cov}^{\\rm mag}/{\\rm Cov}^{\\rm no~mag})$')\n",
    "ax_pos = ax.get_position()\n",
    "cbar_pos0 = cbar.ax.get_position()\n",
    "cbar_pos1 = [cbar_pos0.x0, ax_pos.y0, cbar_pos0.x1 - cbar_pos0.x0, ax_pos.y1 - ax_pos.y0]\n",
    "cbar.ax.set_position(cbar_pos1)\n",
    "for i in range(n):\n",
    "    ax.axhline(i*nr-0.5, color='k')\n",
    "    ax.axvline(i*nr-0.5, color='k')\n",
    "plt.setp(ax.get_xticklabels(), visible=False)\n",
    "plt.setp(ax.get_yticklabels(), visible=False)\n",
    "ax.tick_params(axis='both', which='minor', length=0)\n",
    "ax.tick_params(axis='both', which='major', length=0)\n",
    "for i in range(n):\n",
    "    ax.text((i+0.5)*nr, -1, samples[i], ha=\"center\", va=\"bottom\")\n",
    "    ax.text(-1, (i+0.5)*nr, samples[i], ha=\"right\", va=\"center\", rotation=90)\n",
    "for i in range(n):\n",
    "    ax.text(0 +i*nr    , nr*n+1, r'$R_{\\rm min}$', ha='left' , va='top',fontsize=15)\n",
    "    ax.text(nr+i*nr-1.0, nr*n+1, r'$R_{\\rm max}$', ha='right', va='top',fontsize=15)"
   ]
  },
  {
   "cell_type": "code",
   "execution_count": null,
   "metadata": {},
   "outputs": [],
   "source": [
    "sel = abs(dcov/cov_lens) > 1\n",
    "high = np.zeros(dcov.shape)\n",
    "high[sel] = 1.0"
   ]
  },
  {
   "cell_type": "code",
   "execution_count": null,
   "metadata": {},
   "outputs": [],
   "source": [
    "fig, ax = plt.subplots(figsize=(9,9))\n",
    "im = ax.imshow(high, cmap='Reds')\n",
    "#cbar = fig.colorbar(im)\n",
    "#cbar.ax.set_ylabel(r'$log_{10}(\\delta{\\rm Cov}^{\\rm mag}/{\\rm Cov}^{\\rm no~mag})$')\n",
    "#ax_pos = ax.get_position()\n",
    "#cbar_pos0 = cbar.ax.get_position()\n",
    "#cbar_pos1 = [cbar_pos0.x0, ax_pos.y0, cbar_pos0.x1 - cbar_pos0.x0, ax_pos.y1 - ax_pos.y0]\n",
    "#cbar.ax.set_position(cbar_pos1)\n",
    "for i in range(n):\n",
    "    ax.axhline(i*nr-0.5, color='k')\n",
    "    ax.axvline(i*nr-0.5, color='k')\n",
    "plt.setp(ax.get_xticklabels(), visible=False)\n",
    "plt.setp(ax.get_yticklabels(), visible=False)\n",
    "ax.tick_params(axis='both', which='minor', length=0)\n",
    "ax.tick_params(axis='both', which='major', length=0)\n",
    "for i in range(n):\n",
    "    ax.text((i+0.5)*nr, -1, samples[i], ha=\"center\", va=\"bottom\")\n",
    "    ax.text(-1, (i+0.5)*nr, samples[i], ha=\"right\", va=\"center\", rotation=90)\n",
    "for i in range(n):\n",
    "    ax.text(0 +i*nr    , nr*n+1, r'$R_{\\rm min}$', ha='left' , va='top',fontsize=15)\n",
    "    ax.text(nr+i*nr-1.0, nr*n+1, r'$R_{\\rm max}$', ha='right', va='top',fontsize=15)"
   ]
  },
  {
   "cell_type": "code",
   "execution_count": null,
   "metadata": {},
   "outputs": [],
   "source": []
  },
  {
   "cell_type": "code",
   "execution_count": null,
   "metadata": {},
   "outputs": [],
   "source": [
    "fig, ax = plt.subplots(figsize=(10,10))\n",
    "fig.suptitle(r'${\\rm Cov}$', y=0.9)\n",
    "im = ax.imshow(np.log10(abs(cov_lens)), cmap='Blues')\n",
    "cbar = fig.colorbar(im)\n",
    "cbar.ax.set_ylabel(r'$\\log_{10}({\\rm Cov}^{\\rm no~mag})$')\n",
    "ax_pos = ax.get_position()\n",
    "cbar_pos0 = cbar.ax.get_position()\n",
    "cbar_pos1 = [cbar_pos0.x0, ax_pos.y0, cbar_pos0.x1 - cbar_pos0.x0, ax_pos.y1 - ax_pos.y0]\n",
    "cbar.ax.set_position(cbar_pos1)\n",
    "for i in range(n):\n",
    "    ax.axhline(i*nr-0.5, color='k')\n",
    "    ax.axvline(i*nr-0.5, color='k')\n",
    "plt.setp(ax.get_xticklabels(), visible=False)\n",
    "plt.setp(ax.get_yticklabels(), visible=False)\n",
    "ax.tick_params(axis='both', which='minor', length=0)\n",
    "ax.tick_params(axis='both', which='major', length=0)\n",
    "for i in range(n):\n",
    "    ax.text((i+0.5)*nr, -1, samples[i], ha=\"center\", va=\"bottom\")\n",
    "    ax.text(-1, (i+0.5)*nr, samples[i], ha=\"right\", va=\"center\", rotation=90)\n",
    "for i in range(n):\n",
    "    ax.text(0 +i*nr    , nr*n+1, r'$R_{\\rm min}$', ha='left' , va='top',fontsize=15)\n",
    "    ax.text(nr+i*nr-1.0, nr*n+1, r'$R_{\\rm max}$', ha='right', va='top',fontsize=15)"
   ]
  },
  {
   "cell_type": "code",
   "execution_count": null,
   "metadata": {},
   "outputs": [],
   "source": [
    "fig, ax = plt.subplots(figsize=(10,10))\n",
    "fig.suptitle(r'${\\rm Cov}+\\delta{\\rm Cov}$', y=0.9)\n",
    "im = ax.imshow(np.log10(abs(cov_lens+dcov)), cmap='Blues')\n",
    "cbar = fig.colorbar(im)\n",
    "cbar.ax.set_ylabel(r'$\\log_{10}({\\rm Cov}^{\\rm no~mag}+\\delta{\\rm Cov})$')\n",
    "ax_pos = ax.get_position()\n",
    "cbar_pos0 = cbar.ax.get_position()\n",
    "cbar_pos1 = [cbar_pos0.x0, ax_pos.y0, cbar_pos0.x1 - cbar_pos0.x0, ax_pos.y1 - ax_pos.y0]\n",
    "cbar.ax.set_position(cbar_pos1)\n",
    "for i in range(n):\n",
    "    ax.axhline(i*nr-0.5, color='k')\n",
    "    ax.axvline(i*nr-0.5, color='k')\n",
    "plt.setp(ax.get_xticklabels(), visible=False)\n",
    "plt.setp(ax.get_yticklabels(), visible=False)\n",
    "ax.tick_params(axis='both', which='minor', length=0)\n",
    "ax.tick_params(axis='both', which='major', length=0)\n",
    "for i in range(n):\n",
    "    ax.text((i+0.5)*nr, -1, samples[i], ha=\"center\", va=\"bottom\")\n",
    "    ax.text(-1, (i+0.5)*nr, samples[i], ha=\"right\", va=\"center\", rotation=90)\n",
    "for i in range(n):\n",
    "    ax.text(0 +i*nr    , nr*n+1, r'$R_{\\rm min}$', ha='left' , va='top',fontsize=15)\n",
    "    ax.text(nr+i*nr-1.0, nr*n+1, r'$R_{\\rm max}$', ha='right', va='top',fontsize=15)"
   ]
  },
  {
   "cell_type": "code",
   "execution_count": null,
   "metadata": {},
   "outputs": [],
   "source": [
    "fig, ax = plt.subplots(figsize=(10,10))\n",
    "fig.suptitle(r'$\\delta{\\rm Cov}$', y=0.9)\n",
    "im = ax.imshow(np.log10(abs(dcov)), cmap='Blues')\n",
    "cbar = fig.colorbar(im)\n",
    "cbar.ax.set_ylabel(r'$\\log_{10}(\\delta{\\rm Cov})$')\n",
    "ax_pos = ax.get_position()\n",
    "cbar_pos0 = cbar.ax.get_position()\n",
    "cbar_pos1 = [cbar_pos0.x0, ax_pos.y0, cbar_pos0.x1 - cbar_pos0.x0, ax_pos.y1 - ax_pos.y0]\n",
    "cbar.ax.set_position(cbar_pos1)\n",
    "for i in range(n):\n",
    "    ax.axhline(i*nr-0.5, color='k')\n",
    "    ax.axvline(i*nr-0.5, color='k')\n",
    "plt.setp(ax.get_xticklabels(), visible=False)\n",
    "plt.setp(ax.get_yticklabels(), visible=False)\n",
    "ax.tick_params(axis='both', which='minor', length=0)\n",
    "ax.tick_params(axis='both', which='major', length=0)\n",
    "for i in range(n):\n",
    "    ax.text((i+0.5)*nr, -1, samples[i], ha=\"center\", va=\"bottom\")\n",
    "    ax.text(-1, (i+0.5)*nr, samples[i], ha=\"right\", va=\"center\", rotation=90)\n",
    "for i in range(n):\n",
    "    ax.text(0 +i*nr    , nr*n+1, r'$R_{\\rm min}$', ha='left' , va='top',fontsize=15)\n",
    "    ax.text(nr+i*nr-1.0, nr*n+1, r'$R_{\\rm max}$', ha='right', va='top',fontsize=15)"
   ]
  },
  {
   "cell_type": "code",
   "execution_count": null,
   "metadata": {},
   "outputs": [],
   "source": [
    "dr = copy.deepcopy(dcov)\n",
    "for i in range(dr.shape[0]):\n",
    "    for j in range(dr.shape[0]):\n",
    "        dr[i][j] /= (cov_lens[i,i]*cov_lens[j,j])**0.5"
   ]
  },
  {
   "cell_type": "code",
   "execution_count": null,
   "metadata": {},
   "outputs": [],
   "source": [
    "fig, ax = plt.subplots(figsize=(10,10))\n",
    "fig.suptitle(r'$\\delta{\\rm Cov}_{ij}/\\sqrt{{\\rm Cov}_{ii}{\\rm Cov}_{jj}}$', y=0.9)\n",
    "im = ax.imshow((abs(dr)), cmap='Blues')\n",
    "cbar = fig.colorbar(im)\n",
    "cbar.ax.set_ylabel(r'$\\delta{\\rm Cov}_{ij}/\\sqrt{{\\rm Cov}_{ii}{\\rm Cov}_{jj}}$')\n",
    "ax_pos = ax.get_position()\n",
    "cbar_pos0 = cbar.ax.get_position()\n",
    "cbar_pos1 = [cbar_pos0.x0, ax_pos.y0, cbar_pos0.x1 - cbar_pos0.x0, ax_pos.y1 - ax_pos.y0]\n",
    "cbar.ax.set_position(cbar_pos1)\n",
    "for i in range(n):\n",
    "    ax.axhline(i*nr-0.5, color='k')\n",
    "    ax.axvline(i*nr-0.5, color='k')\n",
    "plt.setp(ax.get_xticklabels(), visible=False)\n",
    "plt.setp(ax.get_yticklabels(), visible=False)\n",
    "ax.tick_params(axis='both', which='minor', length=0)\n",
    "ax.tick_params(axis='both', which='major', length=0)\n",
    "for i in range(n):\n",
    "    ax.text((i+0.5)*nr, -1, samples[i], ha=\"center\", va=\"bottom\")\n",
    "    ax.text(-1, (i+0.5)*nr, samples[i], ha=\"right\", va=\"center\", rotation=90)\n",
    "for i in range(n):\n",
    "    ax.text(0 +i*nr    , nr*n+1, r'$R_{\\rm min}$', ha='left' , va='top',fontsize=15)\n",
    "    ax.text(nr+i*nr-1.0, nr*n+1, r'$R_{\\rm max}$', ha='right', va='top',fontsize=15)"
   ]
  },
  {
   "cell_type": "code",
   "execution_count": null,
   "metadata": {},
   "outputs": [],
   "source": [
    "np.max(dr)"
   ]
  },
  {
   "cell_type": "code",
   "execution_count": null,
   "metadata": {},
   "outputs": [],
   "source": [
    "compara = np.zeros(dr.shape)\n",
    "sel = dr > 0.05\n",
    "compara[sel] = 1"
   ]
  },
  {
   "cell_type": "code",
   "execution_count": null,
   "metadata": {},
   "outputs": [],
   "source": [
    "fig, ax = plt.subplots(figsize=(10,10))\n",
    "fig.suptitle(r'$\\delta{\\rm Cov}_{ij}/\\sqrt{{\\rm Cov}_{ii}{\\rm Cov}_{jj}} > 5\\%$', y=0.98)\n",
    "im = ax.imshow(compara, cmap='Reds')\n",
    "for i in range(n):\n",
    "    ax.axhline(i*nr-0.5, color='k')\n",
    "    ax.axvline(i*nr-0.5, color='k')\n",
    "plt.setp(ax.get_xticklabels(), visible=False)\n",
    "plt.setp(ax.get_yticklabels(), visible=False)\n",
    "ax.tick_params(axis='both', which='minor', length=0)\n",
    "ax.tick_params(axis='both', which='major', length=0)\n",
    "for i in range(n):\n",
    "    ax.text((i+0.5)*nr, -1, samples[i], ha=\"center\", va=\"bottom\")\n",
    "    ax.text(-1, (i+0.5)*nr, samples[i], ha=\"right\", va=\"center\", rotation=90)\n",
    "for i in range(n):\n",
    "    ax.text(0 +i*nr    , nr*n+1, r'$R_{\\rm min}$', ha='left' , va='top',fontsize=15)\n",
    "    ax.text(nr+i*nr-1.0, nr*n+1, r'$R_{\\rm max}$', ha='right', va='top',fontsize=15)"
   ]
  },
  {
   "cell_type": "markdown",
   "metadata": {},
   "source": [
    "### C(l) exmaple"
   ]
  },
  {
   "cell_type": "code",
   "execution_count": null,
   "metadata": {},
   "outputs": [],
   "source": [
    "fig, axes = plt.subplots(1,5, figsize=(30, 5), sharey=True)\n",
    "plt.subplots_adjust(wspace=0.02)\n",
    "n = len(mc.C_ls)\n",
    "fs = 15\n",
    "\n",
    "ax = axes[0]\n",
    "ax.set_title(r'$C_{\\rm ss}$')\n",
    "ax.loglog(mc.l, mc.C_ss)\n",
    "\n",
    "ax = axes[1]\n",
    "ax.set_title(r'$C_{\\rm ls}$')\n",
    "for i in range(n):\n",
    "    ax.loglog(mc.l, mc.C_ls[i], label=r'$C_{l_%s, s}$'%i)\n",
    "ax.legend(fontsize=fs)\n",
    "    \n",
    "ax = axes[2]\n",
    "ax.set_title(r'$C_{\\rm gs}$')\n",
    "for i in range(n):\n",
    "    ax.loglog(mc.l, mc.C_gs[i], label=r'$C_{g_%s, s}$'%i)\n",
    "ax.legend(fontsize=fs)\n",
    "    \n",
    "ax = axes[3]\n",
    "ax.set_title(r'$C_{\\rm gl}$')\n",
    "for i in range(n):\n",
    "    for j in range(n):\n",
    "        ax.loglog(mc.l, mc.C_gl[i][j], label=r'$(C_{g_%d,l_%d})$'%(i,j)) if i!=j else None\n",
    "ax.legend(fontsize=fs, ncol=2)\n",
    "        \n",
    "ax = axes[4]\n",
    "ax.set_title(r'$C_{\\rm ll}$')\n",
    "for i in range(n):\n",
    "    for j in range(i+1):\n",
    "        ax.loglog(mc.l, mc.C_ll[i][j], label=r'$(C_{l_%d,l_%d})$'%(i,j))\n",
    "ax.legend(fontsize=fs)\n",
    "\n",
    "plt.show()\n"
   ]
  },
  {
   "cell_type": "code",
   "execution_count": null,
   "metadata": {},
   "outputs": [],
   "source": []
  }
 ],
 "metadata": {
  "kernelspec": {
   "display_name": "Python 3",
   "language": "python",
   "name": "python3"
  },
  "language_info": {
   "codemirror_mode": {
    "name": "ipython",
    "version": 3
   },
   "file_extension": ".py",
   "mimetype": "text/x-python",
   "name": "python",
   "nbconvert_exporter": "python",
   "pygments_lexer": "ipython3",
   "version": "3.7.6"
  }
 },
 "nbformat": 4,
 "nbformat_minor": 4
}
